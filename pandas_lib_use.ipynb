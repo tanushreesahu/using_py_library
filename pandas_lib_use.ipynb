{
 "cells": [
  {
   "cell_type": "markdown",
   "id": "88d44538-9791-42cf-a6e0-f1778ea5eb87",
   "metadata": {},
   "source": [
    "# Pandas \n",
    "pandas stands for panel data & is the core library for data analysis and data manipulation.\n",
    "\n",
    "Its consist of single and multidimentional data structure for data manipulation\n",
    "\n",
    "> Single dimension - series Object\n",
    "\n",
    "> Multidimenion - data frame"
   ]
  },
  {
   "cell_type": "markdown",
   "id": "4801dac8-369f-4d8e-b20e-8950334e233a",
   "metadata": {},
   "source": [
    "# Series Object : \n",
    "Is one dimensional labeled array ."
   ]
  },
  {
   "cell_type": "raw",
   "id": "66e35056-f7b1-47e0-85fc-e3adf9a5dd35",
   "metadata": {},
   "source": [
    "# install pandas with pip\n",
    "pip install pandas"
   ]
  },
  {
   "cell_type": "code",
   "execution_count": 4,
   "id": "984210c2-8404-4f9d-8e80-d5245e47463c",
   "metadata": {},
   "outputs": [],
   "source": [
    "import pandas as pd"
   ]
  },
  {
   "cell_type": "code",
   "execution_count": 5,
   "id": "1b0fa2f3-7307-4a97-8dba-5dc5847bc109",
   "metadata": {},
   "outputs": [
    {
     "data": {
      "text/plain": [
       "0    1\n",
       "1    2\n",
       "2    3\n",
       "3    4\n",
       "4    5\n",
       "dtype: int64"
      ]
     },
     "execution_count": 5,
     "metadata": {},
     "output_type": "execute_result"
    }
   ],
   "source": [
    "s1=pd.Series([1,2,3,4,5])\n",
    "s1"
   ]
  },
  {
   "cell_type": "code",
   "execution_count": 3,
   "id": "53cf21ff-97b6-4bb1-8703-d8f6d03f61da",
   "metadata": {},
   "outputs": [
    {
     "data": {
      "text/plain": [
       "pandas.core.series.Series"
      ]
     },
     "execution_count": 3,
     "metadata": {},
     "output_type": "execute_result"
    }
   ],
   "source": [
    "type(s1)"
   ]
  },
  {
   "cell_type": "code",
   "execution_count": 4,
   "id": "cd9b3ab4-a1e6-44e7-8e5a-b2e1bf4a44f9",
   "metadata": {},
   "outputs": [],
   "source": [
    "#changing Index "
   ]
  },
  {
   "cell_type": "code",
   "execution_count": 5,
   "id": "75796d77-bf92-4840-8f66-f5bc8706ba05",
   "metadata": {},
   "outputs": [],
   "source": [
    "s1=pd.Series([1,2,3,4,5],index=['a','b','c','d','e'])"
   ]
  },
  {
   "cell_type": "code",
   "execution_count": 6,
   "id": "2d0f5433-245c-4263-89ed-16629f534357",
   "metadata": {},
   "outputs": [
    {
     "data": {
      "text/plain": [
       "a    1\n",
       "b    2\n",
       "c    3\n",
       "d    4\n",
       "e    5\n",
       "dtype: int64"
      ]
     },
     "execution_count": 6,
     "metadata": {},
     "output_type": "execute_result"
    }
   ],
   "source": [
    "s1"
   ]
  },
  {
   "cell_type": "code",
   "execution_count": 7,
   "id": "d40511b6-c29e-4da2-97d8-52889346bcb6",
   "metadata": {},
   "outputs": [
    {
     "data": {
      "text/plain": [
       "k1    10\n",
       "k2    20\n",
       "k3    36\n",
       "dtype: int64"
      ]
     },
     "execution_count": 7,
     "metadata": {},
     "output_type": "execute_result"
    }
   ],
   "source": [
    "# using with dictionary \n",
    "\n",
    "pd.Series({'k1':10,'k2':20,'k3':36})"
   ]
  },
  {
   "cell_type": "code",
   "execution_count": 8,
   "id": "b7f2df03-2c01-484b-bbab-06fae04a6b6c",
   "metadata": {},
   "outputs": [],
   "source": [
    "s2=pd.Series({'k1':10,'k2':20,'k3':30},index=['k3','k1','k4','k2'])"
   ]
  },
  {
   "cell_type": "code",
   "execution_count": 9,
   "id": "ada3aa6d-c575-4171-99bf-314a4ef22e12",
   "metadata": {},
   "outputs": [
    {
     "data": {
      "text/plain": [
       "k3    30.0\n",
       "k1    10.0\n",
       "k4     NaN\n",
       "k2    20.0\n",
       "dtype: float64"
      ]
     },
     "execution_count": 9,
     "metadata": {},
     "output_type": "execute_result"
    }
   ],
   "source": [
    "s2"
   ]
  },
  {
   "cell_type": "code",
   "execution_count": 11,
   "id": "7b24b413-31bb-487d-b721-10bbf26e771e",
   "metadata": {},
   "outputs": [
    {
     "data": {
      "text/plain": [
       "4"
      ]
     },
     "execution_count": 11,
     "metadata": {},
     "output_type": "execute_result"
    }
   ],
   "source": [
    "# Extracting individual elements \n",
    "\n",
    "s3=pd.Series([1,2,3,4,5,6,7])\n",
    "s3[3]                           # indexing"
   ]
  },
  {
   "cell_type": "code",
   "execution_count": 12,
   "id": "7096f5b7-25a1-44ce-b8b3-f660e619db72",
   "metadata": {},
   "outputs": [
    {
     "data": {
      "text/plain": [
       "0    1\n",
       "1    2\n",
       "2    3\n",
       "3    4\n",
       "dtype: int64"
      ]
     },
     "execution_count": 12,
     "metadata": {},
     "output_type": "execute_result"
    }
   ],
   "source": [
    "s3[:4]"
   ]
  },
  {
   "cell_type": "code",
   "execution_count": 13,
   "id": "633094f0-598c-4fe4-9785-f3622c2e6b27",
   "metadata": {},
   "outputs": [
    {
     "data": {
      "text/plain": [
       "4    5\n",
       "5    6\n",
       "6    7\n",
       "dtype: int64"
      ]
     },
     "execution_count": 13,
     "metadata": {},
     "output_type": "execute_result"
    }
   ],
   "source": [
    "s3[-3:]"
   ]
  },
  {
   "cell_type": "code",
   "execution_count": 14,
   "id": "63e5bb7c-9a98-472c-b494-846bffeb851f",
   "metadata": {},
   "outputs": [],
   "source": [
    "# basic Math operations in series "
   ]
  },
  {
   "cell_type": "code",
   "execution_count": 15,
   "id": "cd06efd5-e9cd-463c-89a3-23200b6aa296",
   "metadata": {},
   "outputs": [
    {
     "data": {
      "text/plain": [
       "0     6\n",
       "1     7\n",
       "2     8\n",
       "3     9\n",
       "4    10\n",
       "dtype: int64"
      ]
     },
     "execution_count": 15,
     "metadata": {},
     "output_type": "execute_result"
    }
   ],
   "source": [
    "# adding a Scaler values to series values\n",
    "\n",
    "s4=pd.Series([1,2,3,4,5])\n",
    "s4+5"
   ]
  },
  {
   "cell_type": "code",
   "execution_count": 16,
   "id": "6dd07621-e8df-490f-bf70-12e1c7c8172a",
   "metadata": {},
   "outputs": [
    {
     "data": {
      "text/plain": [
       "0    11\n",
       "1    22\n",
       "2    33\n",
       "3    44\n",
       "4    55\n",
       "dtype: int64"
      ]
     },
     "execution_count": 16,
     "metadata": {},
     "output_type": "execute_result"
    }
   ],
   "source": [
    "# adding two series values \n",
    "s5=pd.Series([10,20,30,40,50])\n",
    "s4+s5"
   ]
  },
  {
   "cell_type": "code",
   "execution_count": 17,
   "id": "6018179a-e3f4-4bc8-b84c-6f2939b1bf11",
   "metadata": {},
   "outputs": [
    {
     "data": {
      "text/plain": [
       "0   -90\n",
       "1   -80\n",
       "2   -70\n",
       "3   -60\n",
       "4   -50\n",
       "dtype: int64"
      ]
     },
     "execution_count": 17,
     "metadata": {},
     "output_type": "execute_result"
    }
   ],
   "source": [
    "s5-100"
   ]
  },
  {
   "cell_type": "markdown",
   "id": "e38851f1-88d6-46f3-9d47-3ae0fbe504e3",
   "metadata": {},
   "source": [
    "# Data Frames\n",
    "Data frame is a 2-Dimensional labelled data structures\n",
    "\n",
    "Data frames comprises of rows and columns"
   ]
  },
  {
   "cell_type": "code",
   "execution_count": 18,
   "id": "c32987ad-72cb-4267-85a7-534ef58bc766",
   "metadata": {},
   "outputs": [],
   "source": [
    "# how to create a DataFrames"
   ]
  },
  {
   "cell_type": "code",
   "execution_count": 19,
   "id": "b1c3d75d-edd7-42eb-8e09-26f1e8cc95d9",
   "metadata": {},
   "outputs": [],
   "source": [
    "import pandas as pd"
   ]
  },
  {
   "cell_type": "code",
   "execution_count": 20,
   "id": "f3b16224-4d0b-4545-a633-9a613b91dfc0",
   "metadata": {},
   "outputs": [
    {
     "data": {
      "text/html": [
       "<div>\n",
       "<style scoped>\n",
       "    .dataframe tbody tr th:only-of-type {\n",
       "        vertical-align: middle;\n",
       "    }\n",
       "\n",
       "    .dataframe tbody tr th {\n",
       "        vertical-align: top;\n",
       "    }\n",
       "\n",
       "    .dataframe thead th {\n",
       "        text-align: right;\n",
       "    }\n",
       "</style>\n",
       "<table border=\"1\" class=\"dataframe\">\n",
       "  <thead>\n",
       "    <tr style=\"text-align: right;\">\n",
       "      <th></th>\n",
       "      <th>Name</th>\n",
       "      <th>Marks</th>\n",
       "    </tr>\n",
       "  </thead>\n",
       "  <tbody>\n",
       "    <tr>\n",
       "      <th>0</th>\n",
       "      <td>Sami</td>\n",
       "      <td>76</td>\n",
       "    </tr>\n",
       "    <tr>\n",
       "      <th>1</th>\n",
       "      <td>jerk</td>\n",
       "      <td>25</td>\n",
       "    </tr>\n",
       "    <tr>\n",
       "      <th>2</th>\n",
       "      <td>Anny</td>\n",
       "      <td>86</td>\n",
       "    </tr>\n",
       "  </tbody>\n",
       "</table>\n",
       "</div>"
      ],
      "text/plain": [
       "   Name  Marks\n",
       "0  Sami     76\n",
       "1  jerk     25\n",
       "2  Anny     86"
      ]
     },
     "execution_count": 20,
     "metadata": {},
     "output_type": "execute_result"
    }
   ],
   "source": [
    "pd.DataFrame({\"Name\":['Sami',\"jerk\",\"Anny\"],\"Marks\":[76,25,86]})"
   ]
  },
  {
   "cell_type": "markdown",
   "id": "e91a2aaf-1f33-4a11-83a1-a3a3b308f78f",
   "metadata": {},
   "source": [
    "# DataFrames in built function\n",
    "\n",
    "head( ) - to show ist 5 records\n",
    "\n",
    "shape- to show rows and columns of table\n",
    "\n",
    "describe( ) - describe the structure of table\n",
    "\n",
    "tail( )- to show last 5 records"
   ]
  },
  {
   "cell_type": "code",
   "execution_count": 21,
   "id": "781ec446-7142-418c-b598-cae23e473053",
   "metadata": {},
   "outputs": [],
   "source": [
    "iris=pd.read_csv(r'C:\\Users\\Tanushree Sahu\\Desktop\\std_percentage.csv')"
   ]
  },
  {
   "cell_type": "code",
   "execution_count": 22,
   "id": "5e465c9e-0923-4ab1-b53e-bbf7149f1fb0",
   "metadata": {},
   "outputs": [
    {
     "data": {
      "text/html": [
       "<div>\n",
       "<style scoped>\n",
       "    .dataframe tbody tr th:only-of-type {\n",
       "        vertical-align: middle;\n",
       "    }\n",
       "\n",
       "    .dataframe tbody tr th {\n",
       "        vertical-align: top;\n",
       "    }\n",
       "\n",
       "    .dataframe thead th {\n",
       "        text-align: right;\n",
       "    }\n",
       "</style>\n",
       "<table border=\"1\" class=\"dataframe\">\n",
       "  <thead>\n",
       "    <tr style=\"text-align: right;\">\n",
       "      <th></th>\n",
       "      <th>Sepal_length</th>\n",
       "      <th>Sepal_width</th>\n",
       "      <th>Petal_length</th>\n",
       "      <th>Petal_width</th>\n",
       "      <th>Species</th>\n",
       "    </tr>\n",
       "  </thead>\n",
       "  <tbody>\n",
       "    <tr>\n",
       "      <th>0</th>\n",
       "      <td>2.5</td>\n",
       "      <td>0.44</td>\n",
       "      <td>1.67</td>\n",
       "      <td>3.00</td>\n",
       "      <td>Sentos</td>\n",
       "    </tr>\n",
       "    <tr>\n",
       "      <th>1</th>\n",
       "      <td>0.5</td>\n",
       "      <td>0.41</td>\n",
       "      <td>2.50</td>\n",
       "      <td>1.51</td>\n",
       "      <td>versicolor</td>\n",
       "    </tr>\n",
       "    <tr>\n",
       "      <th>2</th>\n",
       "      <td>4.4</td>\n",
       "      <td>0.12</td>\n",
       "      <td>8.10</td>\n",
       "      <td>2.20</td>\n",
       "      <td>virginica</td>\n",
       "    </tr>\n",
       "    <tr>\n",
       "      <th>3</th>\n",
       "      <td>1.5</td>\n",
       "      <td>3.10</td>\n",
       "      <td>7.40</td>\n",
       "      <td>2.10</td>\n",
       "      <td>Sentos</td>\n",
       "    </tr>\n",
       "    <tr>\n",
       "      <th>4</th>\n",
       "      <td>1.2</td>\n",
       "      <td>3.00</td>\n",
       "      <td>2.10</td>\n",
       "      <td>2.36</td>\n",
       "      <td>Sentos</td>\n",
       "    </tr>\n",
       "  </tbody>\n",
       "</table>\n",
       "</div>"
      ],
      "text/plain": [
       "   Sepal_length  Sepal_width  Petal_length  Petal_width     Species\n",
       "0           2.5         0.44          1.67         3.00      Sentos\n",
       "1           0.5         0.41          2.50         1.51  versicolor\n",
       "2           4.4         0.12          8.10         2.20   virginica\n",
       "3           1.5         3.10          7.40         2.10      Sentos\n",
       "4           1.2         3.00          2.10         2.36      Sentos"
      ]
     },
     "execution_count": 22,
     "metadata": {},
     "output_type": "execute_result"
    }
   ],
   "source": [
    "iris.head()"
   ]
  },
  {
   "cell_type": "code",
   "execution_count": 23,
   "id": "627e2d4b-e221-4297-8b0a-036ba400592c",
   "metadata": {},
   "outputs": [
    {
     "data": {
      "text/html": [
       "<div>\n",
       "<style scoped>\n",
       "    .dataframe tbody tr th:only-of-type {\n",
       "        vertical-align: middle;\n",
       "    }\n",
       "\n",
       "    .dataframe tbody tr th {\n",
       "        vertical-align: top;\n",
       "    }\n",
       "\n",
       "    .dataframe thead th {\n",
       "        text-align: right;\n",
       "    }\n",
       "</style>\n",
       "<table border=\"1\" class=\"dataframe\">\n",
       "  <thead>\n",
       "    <tr style=\"text-align: right;\">\n",
       "      <th></th>\n",
       "      <th>Sepal_length</th>\n",
       "      <th>Sepal_width</th>\n",
       "      <th>Petal_length</th>\n",
       "      <th>Petal_width</th>\n",
       "      <th>Species</th>\n",
       "    </tr>\n",
       "  </thead>\n",
       "  <tbody>\n",
       "    <tr>\n",
       "      <th>14</th>\n",
       "      <td>1.11</td>\n",
       "      <td>2.50</td>\n",
       "      <td>1.01</td>\n",
       "      <td>0.44</td>\n",
       "      <td>Sentos</td>\n",
       "    </tr>\n",
       "    <tr>\n",
       "      <th>15</th>\n",
       "      <td>1.60</td>\n",
       "      <td>6.10</td>\n",
       "      <td>2.20</td>\n",
       "      <td>0.41</td>\n",
       "      <td>versicolor</td>\n",
       "    </tr>\n",
       "    <tr>\n",
       "      <th>16</th>\n",
       "      <td>2.61</td>\n",
       "      <td>1.02</td>\n",
       "      <td>7.10</td>\n",
       "      <td>7.01</td>\n",
       "      <td>virginica</td>\n",
       "    </tr>\n",
       "    <tr>\n",
       "      <th>17</th>\n",
       "      <td>1.02</td>\n",
       "      <td>6.10</td>\n",
       "      <td>0.61</td>\n",
       "      <td>8.10</td>\n",
       "      <td>Sentos</td>\n",
       "    </tr>\n",
       "    <tr>\n",
       "      <th>18</th>\n",
       "      <td>6.10</td>\n",
       "      <td>1.06</td>\n",
       "      <td>6.12</td>\n",
       "      <td>2.30</td>\n",
       "      <td>versicolor</td>\n",
       "    </tr>\n",
       "  </tbody>\n",
       "</table>\n",
       "</div>"
      ],
      "text/plain": [
       "    Sepal_length  Sepal_width  Petal_length  Petal_width     Species\n",
       "14          1.11         2.50          1.01         0.44      Sentos\n",
       "15          1.60         6.10          2.20         0.41  versicolor\n",
       "16          2.61         1.02          7.10         7.01   virginica\n",
       "17          1.02         6.10          0.61         8.10      Sentos\n",
       "18          6.10         1.06          6.12         2.30  versicolor"
      ]
     },
     "execution_count": 23,
     "metadata": {},
     "output_type": "execute_result"
    }
   ],
   "source": [
    "iris.tail()"
   ]
  },
  {
   "cell_type": "code",
   "execution_count": 24,
   "id": "14ae114d-7cd9-45e0-a083-d1f78343bcc2",
   "metadata": {},
   "outputs": [
    {
     "data": {
      "text/plain": [
       "(19, 5)"
      ]
     },
     "execution_count": 24,
     "metadata": {},
     "output_type": "execute_result"
    }
   ],
   "source": [
    "iris.shape"
   ]
  },
  {
   "cell_type": "code",
   "execution_count": 25,
   "id": "62df735e-f51d-40af-8924-754236ff068e",
   "metadata": {},
   "outputs": [
    {
     "data": {
      "text/html": [
       "<div>\n",
       "<style scoped>\n",
       "    .dataframe tbody tr th:only-of-type {\n",
       "        vertical-align: middle;\n",
       "    }\n",
       "\n",
       "    .dataframe tbody tr th {\n",
       "        vertical-align: top;\n",
       "    }\n",
       "\n",
       "    .dataframe thead th {\n",
       "        text-align: right;\n",
       "    }\n",
       "</style>\n",
       "<table border=\"1\" class=\"dataframe\">\n",
       "  <thead>\n",
       "    <tr style=\"text-align: right;\">\n",
       "      <th></th>\n",
       "      <th>Sepal_length</th>\n",
       "      <th>Sepal_width</th>\n",
       "      <th>Petal_length</th>\n",
       "      <th>Petal_width</th>\n",
       "    </tr>\n",
       "  </thead>\n",
       "  <tbody>\n",
       "    <tr>\n",
       "      <th>count</th>\n",
       "      <td>19.000000</td>\n",
       "      <td>19.000000</td>\n",
       "      <td>19.000000</td>\n",
       "      <td>19.000000</td>\n",
       "    </tr>\n",
       "    <tr>\n",
       "      <th>mean</th>\n",
       "      <td>2.778421</td>\n",
       "      <td>2.396316</td>\n",
       "      <td>3.189474</td>\n",
       "      <td>2.930526</td>\n",
       "    </tr>\n",
       "    <tr>\n",
       "      <th>std</th>\n",
       "      <td>2.640423</td>\n",
       "      <td>2.094671</td>\n",
       "      <td>2.552954</td>\n",
       "      <td>2.908714</td>\n",
       "    </tr>\n",
       "    <tr>\n",
       "      <th>min</th>\n",
       "      <td>0.220000</td>\n",
       "      <td>0.120000</td>\n",
       "      <td>0.120000</td>\n",
       "      <td>0.220000</td>\n",
       "    </tr>\n",
       "    <tr>\n",
       "      <th>25%</th>\n",
       "      <td>0.760000</td>\n",
       "      <td>0.815000</td>\n",
       "      <td>1.835000</td>\n",
       "      <td>0.500000</td>\n",
       "    </tr>\n",
       "    <tr>\n",
       "      <th>50%</th>\n",
       "      <td>1.600000</td>\n",
       "      <td>2.100000</td>\n",
       "      <td>2.220000</td>\n",
       "      <td>2.100000</td>\n",
       "    </tr>\n",
       "    <tr>\n",
       "      <th>75%</th>\n",
       "      <td>4.750000</td>\n",
       "      <td>3.050000</td>\n",
       "      <td>4.710000</td>\n",
       "      <td>4.650000</td>\n",
       "    </tr>\n",
       "    <tr>\n",
       "      <th>max</th>\n",
       "      <td>8.100000</td>\n",
       "      <td>7.100000</td>\n",
       "      <td>8.100000</td>\n",
       "      <td>8.100000</td>\n",
       "    </tr>\n",
       "  </tbody>\n",
       "</table>\n",
       "</div>"
      ],
      "text/plain": [
       "       Sepal_length  Sepal_width  Petal_length  Petal_width\n",
       "count     19.000000    19.000000     19.000000    19.000000\n",
       "mean       2.778421     2.396316      3.189474     2.930526\n",
       "std        2.640423     2.094671      2.552954     2.908714\n",
       "min        0.220000     0.120000      0.120000     0.220000\n",
       "25%        0.760000     0.815000      1.835000     0.500000\n",
       "50%        1.600000     2.100000      2.220000     2.100000\n",
       "75%        4.750000     3.050000      4.710000     4.650000\n",
       "max        8.100000     7.100000      8.100000     8.100000"
      ]
     },
     "execution_count": 25,
     "metadata": {},
     "output_type": "execute_result"
    }
   ],
   "source": [
    "iris.describe()"
   ]
  },
  {
   "cell_type": "markdown",
   "id": "4b365d15-9b19-453c-84ad-8b4da48a1c1e",
   "metadata": {},
   "source": [
    "extracting some selected rows and columns from data frame \n",
    "\n",
    "loc and iloc are two commonly used functions.\n",
    "\n",
    ".loc[ ]- selects rows and columns with specific labels\n",
    "\n",
    ".iloc[ ]- selects rows and columns at specific integer positions"
   ]
  },
  {
   "cell_type": "code",
   "execution_count": 30,
   "id": "e347125d-dac3-49de-9573-2ef75184c136",
   "metadata": {},
   "outputs": [
    {
     "data": {
      "text/html": [
       "<div>\n",
       "<style scoped>\n",
       "    .dataframe tbody tr th:only-of-type {\n",
       "        vertical-align: middle;\n",
       "    }\n",
       "\n",
       "    .dataframe tbody tr th {\n",
       "        vertical-align: top;\n",
       "    }\n",
       "\n",
       "    .dataframe thead th {\n",
       "        text-align: right;\n",
       "    }\n",
       "</style>\n",
       "<table border=\"1\" class=\"dataframe\">\n",
       "  <thead>\n",
       "    <tr style=\"text-align: right;\">\n",
       "      <th></th>\n",
       "      <th>Sepal_length</th>\n",
       "      <th>Sepal_width</th>\n",
       "    </tr>\n",
       "  </thead>\n",
       "  <tbody>\n",
       "    <tr>\n",
       "      <th>0</th>\n",
       "      <td>2.5</td>\n",
       "      <td>0.44</td>\n",
       "    </tr>\n",
       "    <tr>\n",
       "      <th>1</th>\n",
       "      <td>0.5</td>\n",
       "      <td>0.41</td>\n",
       "    </tr>\n",
       "    <tr>\n",
       "      <th>2</th>\n",
       "      <td>4.4</td>\n",
       "      <td>0.12</td>\n",
       "    </tr>\n",
       "  </tbody>\n",
       "</table>\n",
       "</div>"
      ],
      "text/plain": [
       "   Sepal_length  Sepal_width\n",
       "0           2.5         0.44\n",
       "1           0.5         0.41\n",
       "2           4.4         0.12"
      ]
     },
     "execution_count": 30,
     "metadata": {},
     "output_type": "execute_result"
    }
   ],
   "source": [
    "iris.iloc[0:3,0:2]"
   ]
  },
  {
   "cell_type": "code",
   "execution_count": 31,
   "id": "90565bfb-7780-410b-8407-2c7e5ac817ed",
   "metadata": {},
   "outputs": [
    {
     "data": {
      "text/html": [
       "<div>\n",
       "<style scoped>\n",
       "    .dataframe tbody tr th:only-of-type {\n",
       "        vertical-align: middle;\n",
       "    }\n",
       "\n",
       "    .dataframe tbody tr th {\n",
       "        vertical-align: top;\n",
       "    }\n",
       "\n",
       "    .dataframe thead th {\n",
       "        text-align: right;\n",
       "    }\n",
       "</style>\n",
       "<table border=\"1\" class=\"dataframe\">\n",
       "  <thead>\n",
       "    <tr style=\"text-align: right;\">\n",
       "      <th></th>\n",
       "      <th>Sepal_length</th>\n",
       "      <th>Petal_length</th>\n",
       "    </tr>\n",
       "  </thead>\n",
       "  <tbody>\n",
       "    <tr>\n",
       "      <th>1</th>\n",
       "      <td>0.5</td>\n",
       "      <td>2.50</td>\n",
       "    </tr>\n",
       "    <tr>\n",
       "      <th>2</th>\n",
       "      <td>4.4</td>\n",
       "      <td>8.10</td>\n",
       "    </tr>\n",
       "    <tr>\n",
       "      <th>3</th>\n",
       "      <td>1.5</td>\n",
       "      <td>7.40</td>\n",
       "    </tr>\n",
       "    <tr>\n",
       "      <th>4</th>\n",
       "      <td>1.2</td>\n",
       "      <td>2.10</td>\n",
       "    </tr>\n",
       "    <tr>\n",
       "      <th>5</th>\n",
       "      <td>5.1</td>\n",
       "      <td>2.33</td>\n",
       "    </tr>\n",
       "  </tbody>\n",
       "</table>\n",
       "</div>"
      ],
      "text/plain": [
       "   Sepal_length  Petal_length\n",
       "1           0.5          2.50\n",
       "2           4.4          8.10\n",
       "3           1.5          7.40\n",
       "4           1.2          2.10\n",
       "5           5.1          2.33"
      ]
     },
     "execution_count": 31,
     "metadata": {},
     "output_type": "execute_result"
    }
   ],
   "source": [
    "iris.loc[1:5,('Sepal_length','Petal_length')]"
   ]
  },
  {
   "cell_type": "code",
   "execution_count": 32,
   "id": "e46aa7a4-1e28-4940-be0a-4743cd049850",
   "metadata": {},
   "outputs": [
    {
     "data": {
      "text/html": [
       "<div>\n",
       "<style scoped>\n",
       "    .dataframe tbody tr th:only-of-type {\n",
       "        vertical-align: middle;\n",
       "    }\n",
       "\n",
       "    .dataframe tbody tr th {\n",
       "        vertical-align: top;\n",
       "    }\n",
       "\n",
       "    .dataframe thead th {\n",
       "        text-align: right;\n",
       "    }\n",
       "</style>\n",
       "<table border=\"1\" class=\"dataframe\">\n",
       "  <thead>\n",
       "    <tr style=\"text-align: right;\">\n",
       "      <th></th>\n",
       "      <th>Sepal_length</th>\n",
       "      <th>Sepal_width</th>\n",
       "      <th>Petal_length</th>\n",
       "      <th>Petal_width</th>\n",
       "      <th>Species</th>\n",
       "    </tr>\n",
       "  </thead>\n",
       "  <tbody>\n",
       "    <tr>\n",
       "      <th>0</th>\n",
       "      <td>2.5</td>\n",
       "      <td>0.44</td>\n",
       "      <td>1.67</td>\n",
       "      <td>3.00</td>\n",
       "      <td>Sentos</td>\n",
       "    </tr>\n",
       "    <tr>\n",
       "      <th>1</th>\n",
       "      <td>0.5</td>\n",
       "      <td>0.41</td>\n",
       "      <td>2.50</td>\n",
       "      <td>1.51</td>\n",
       "      <td>versicolor</td>\n",
       "    </tr>\n",
       "    <tr>\n",
       "      <th>2</th>\n",
       "      <td>4.4</td>\n",
       "      <td>0.12</td>\n",
       "      <td>8.10</td>\n",
       "      <td>2.20</td>\n",
       "      <td>virginica</td>\n",
       "    </tr>\n",
       "    <tr>\n",
       "      <th>3</th>\n",
       "      <td>1.5</td>\n",
       "      <td>3.10</td>\n",
       "      <td>7.40</td>\n",
       "      <td>2.10</td>\n",
       "      <td>Sentos</td>\n",
       "    </tr>\n",
       "    <tr>\n",
       "      <th>4</th>\n",
       "      <td>1.2</td>\n",
       "      <td>3.00</td>\n",
       "      <td>2.10</td>\n",
       "      <td>2.36</td>\n",
       "      <td>Sentos</td>\n",
       "    </tr>\n",
       "  </tbody>\n",
       "</table>\n",
       "</div>"
      ],
      "text/plain": [
       "   Sepal_length  Sepal_width  Petal_length  Petal_width     Species\n",
       "0           2.5         0.44          1.67         3.00      Sentos\n",
       "1           0.5         0.41          2.50         1.51  versicolor\n",
       "2           4.4         0.12          8.10         2.20   virginica\n",
       "3           1.5         3.10          7.40         2.10      Sentos\n",
       "4           1.2         3.00          2.10         2.36      Sentos"
      ]
     },
     "execution_count": 32,
     "metadata": {},
     "output_type": "execute_result"
    }
   ],
   "source": [
    "iris.head()"
   ]
  },
  {
   "cell_type": "code",
   "execution_count": 36,
   "id": "c33773f5-8308-4085-9e46-d3c7131e0ae4",
   "metadata": {},
   "outputs": [
    {
     "data": {
      "text/html": [
       "<div>\n",
       "<style scoped>\n",
       "    .dataframe tbody tr th:only-of-type {\n",
       "        vertical-align: middle;\n",
       "    }\n",
       "\n",
       "    .dataframe tbody tr th {\n",
       "        vertical-align: top;\n",
       "    }\n",
       "\n",
       "    .dataframe thead th {\n",
       "        text-align: right;\n",
       "    }\n",
       "</style>\n",
       "<table border=\"1\" class=\"dataframe\">\n",
       "  <thead>\n",
       "    <tr style=\"text-align: right;\">\n",
       "      <th></th>\n",
       "      <th>Sepal_length</th>\n",
       "      <th>Sepal_width</th>\n",
       "      <th>Petal_length</th>\n",
       "      <th>Petal_width</th>\n",
       "    </tr>\n",
       "  </thead>\n",
       "  <tbody>\n",
       "    <tr>\n",
       "      <th>0</th>\n",
       "      <td>2.50</td>\n",
       "      <td>0.44</td>\n",
       "      <td>1.67</td>\n",
       "      <td>3.00</td>\n",
       "    </tr>\n",
       "    <tr>\n",
       "      <th>1</th>\n",
       "      <td>0.50</td>\n",
       "      <td>0.41</td>\n",
       "      <td>2.50</td>\n",
       "      <td>1.51</td>\n",
       "    </tr>\n",
       "    <tr>\n",
       "      <th>2</th>\n",
       "      <td>4.40</td>\n",
       "      <td>0.12</td>\n",
       "      <td>8.10</td>\n",
       "      <td>2.20</td>\n",
       "    </tr>\n",
       "    <tr>\n",
       "      <th>3</th>\n",
       "      <td>1.50</td>\n",
       "      <td>3.10</td>\n",
       "      <td>7.40</td>\n",
       "      <td>2.10</td>\n",
       "    </tr>\n",
       "    <tr>\n",
       "      <th>4</th>\n",
       "      <td>1.20</td>\n",
       "      <td>3.00</td>\n",
       "      <td>2.10</td>\n",
       "      <td>2.36</td>\n",
       "    </tr>\n",
       "    <tr>\n",
       "      <th>5</th>\n",
       "      <td>5.10</td>\n",
       "      <td>1.51</td>\n",
       "      <td>2.33</td>\n",
       "      <td>1.10</td>\n",
       "    </tr>\n",
       "    <tr>\n",
       "      <th>6</th>\n",
       "      <td>6.30</td>\n",
       "      <td>2.20</td>\n",
       "      <td>2.80</td>\n",
       "      <td>6.30</td>\n",
       "    </tr>\n",
       "    <tr>\n",
       "      <th>7</th>\n",
       "      <td>7.70</td>\n",
       "      <td>2.10</td>\n",
       "      <td>3.30</td>\n",
       "      <td>7.70</td>\n",
       "    </tr>\n",
       "    <tr>\n",
       "      <th>8</th>\n",
       "      <td>0.50</td>\n",
       "      <td>2.36</td>\n",
       "      <td>6.70</td>\n",
       "      <td>0.50</td>\n",
       "    </tr>\n",
       "    <tr>\n",
       "      <th>9</th>\n",
       "      <td>1.60</td>\n",
       "      <td>1.10</td>\n",
       "      <td>2.22</td>\n",
       "      <td>1.60</td>\n",
       "    </tr>\n",
       "    <tr>\n",
       "      <th>10</th>\n",
       "      <td>0.22</td>\n",
       "      <td>0.60</td>\n",
       "      <td>2.16</td>\n",
       "      <td>0.22</td>\n",
       "    </tr>\n",
       "    <tr>\n",
       "      <th>11</th>\n",
       "      <td>0.50</td>\n",
       "      <td>7.10</td>\n",
       "      <td>2.00</td>\n",
       "      <td>0.50</td>\n",
       "    </tr>\n",
       "    <tr>\n",
       "      <th>12</th>\n",
       "      <td>8.10</td>\n",
       "      <td>0.61</td>\n",
       "      <td>0.12</td>\n",
       "      <td>8.10</td>\n",
       "    </tr>\n",
       "    <tr>\n",
       "      <th>13</th>\n",
       "      <td>0.23</td>\n",
       "      <td>4.10</td>\n",
       "      <td>0.16</td>\n",
       "      <td>0.23</td>\n",
       "    </tr>\n",
       "    <tr>\n",
       "      <th>14</th>\n",
       "      <td>1.11</td>\n",
       "      <td>2.50</td>\n",
       "      <td>1.01</td>\n",
       "      <td>0.44</td>\n",
       "    </tr>\n",
       "    <tr>\n",
       "      <th>15</th>\n",
       "      <td>1.60</td>\n",
       "      <td>6.10</td>\n",
       "      <td>2.20</td>\n",
       "      <td>0.41</td>\n",
       "    </tr>\n",
       "    <tr>\n",
       "      <th>16</th>\n",
       "      <td>2.61</td>\n",
       "      <td>1.02</td>\n",
       "      <td>7.10</td>\n",
       "      <td>7.01</td>\n",
       "    </tr>\n",
       "    <tr>\n",
       "      <th>17</th>\n",
       "      <td>1.02</td>\n",
       "      <td>6.10</td>\n",
       "      <td>0.61</td>\n",
       "      <td>8.10</td>\n",
       "    </tr>\n",
       "    <tr>\n",
       "      <th>18</th>\n",
       "      <td>6.10</td>\n",
       "      <td>1.06</td>\n",
       "      <td>6.12</td>\n",
       "      <td>2.30</td>\n",
       "    </tr>\n",
       "  </tbody>\n",
       "</table>\n",
       "</div>"
      ],
      "text/plain": [
       "    Sepal_length  Sepal_width  Petal_length  Petal_width\n",
       "0           2.50         0.44          1.67         3.00\n",
       "1           0.50         0.41          2.50         1.51\n",
       "2           4.40         0.12          8.10         2.20\n",
       "3           1.50         3.10          7.40         2.10\n",
       "4           1.20         3.00          2.10         2.36\n",
       "5           5.10         1.51          2.33         1.10\n",
       "6           6.30         2.20          2.80         6.30\n",
       "7           7.70         2.10          3.30         7.70\n",
       "8           0.50         2.36          6.70         0.50\n",
       "9           1.60         1.10          2.22         1.60\n",
       "10          0.22         0.60          2.16         0.22\n",
       "11          0.50         7.10          2.00         0.50\n",
       "12          8.10         0.61          0.12         8.10\n",
       "13          0.23         4.10          0.16         0.23\n",
       "14          1.11         2.50          1.01         0.44\n",
       "15          1.60         6.10          2.20         0.41\n",
       "16          2.61         1.02          7.10         7.01\n",
       "17          1.02         6.10          0.61         8.10\n",
       "18          6.10         1.06          6.12         2.30"
      ]
     },
     "execution_count": 36,
     "metadata": {},
     "output_type": "execute_result"
    }
   ],
   "source": [
    "iris.drop(\"Species\",axis=1)              # Dropping column  axis =1"
   ]
  },
  {
   "cell_type": "code",
   "execution_count": 37,
   "id": "0e053be5-3e4c-41f6-bdf2-7a2afa3afab5",
   "metadata": {},
   "outputs": [
    {
     "data": {
      "text/html": [
       "<div>\n",
       "<style scoped>\n",
       "    .dataframe tbody tr th:only-of-type {\n",
       "        vertical-align: middle;\n",
       "    }\n",
       "\n",
       "    .dataframe tbody tr th {\n",
       "        vertical-align: top;\n",
       "    }\n",
       "\n",
       "    .dataframe thead th {\n",
       "        text-align: right;\n",
       "    }\n",
       "</style>\n",
       "<table border=\"1\" class=\"dataframe\">\n",
       "  <thead>\n",
       "    <tr style=\"text-align: right;\">\n",
       "      <th></th>\n",
       "      <th>Sepal_length</th>\n",
       "      <th>Sepal_width</th>\n",
       "      <th>Petal_length</th>\n",
       "      <th>Petal_width</th>\n",
       "      <th>Species</th>\n",
       "    </tr>\n",
       "  </thead>\n",
       "  <tbody>\n",
       "    <tr>\n",
       "      <th>0</th>\n",
       "      <td>2.5</td>\n",
       "      <td>0.44</td>\n",
       "      <td>1.67</td>\n",
       "      <td>3.00</td>\n",
       "      <td>Sentos</td>\n",
       "    </tr>\n",
       "    <tr>\n",
       "      <th>1</th>\n",
       "      <td>0.5</td>\n",
       "      <td>0.41</td>\n",
       "      <td>2.50</td>\n",
       "      <td>1.51</td>\n",
       "      <td>versicolor</td>\n",
       "    </tr>\n",
       "    <tr>\n",
       "      <th>2</th>\n",
       "      <td>4.4</td>\n",
       "      <td>0.12</td>\n",
       "      <td>8.10</td>\n",
       "      <td>2.20</td>\n",
       "      <td>virginica</td>\n",
       "    </tr>\n",
       "    <tr>\n",
       "      <th>3</th>\n",
       "      <td>1.5</td>\n",
       "      <td>3.10</td>\n",
       "      <td>7.40</td>\n",
       "      <td>2.10</td>\n",
       "      <td>Sentos</td>\n",
       "    </tr>\n",
       "    <tr>\n",
       "      <th>4</th>\n",
       "      <td>1.2</td>\n",
       "      <td>3.00</td>\n",
       "      <td>2.10</td>\n",
       "      <td>2.36</td>\n",
       "      <td>Sentos</td>\n",
       "    </tr>\n",
       "  </tbody>\n",
       "</table>\n",
       "</div>"
      ],
      "text/plain": [
       "   Sepal_length  Sepal_width  Petal_length  Petal_width     Species\n",
       "0           2.5         0.44          1.67         3.00      Sentos\n",
       "1           0.5         0.41          2.50         1.51  versicolor\n",
       "2           4.4         0.12          8.10         2.20   virginica\n",
       "3           1.5         3.10          7.40         2.10      Sentos\n",
       "4           1.2         3.00          2.10         2.36      Sentos"
      ]
     },
     "execution_count": 37,
     "metadata": {},
     "output_type": "execute_result"
    }
   ],
   "source": [
    "iris.head()"
   ]
  },
  {
   "cell_type": "code",
   "execution_count": 38,
   "id": "fbdfc085-d17e-472c-ad8a-3df7aa283324",
   "metadata": {},
   "outputs": [
    {
     "data": {
      "text/html": [
       "<div>\n",
       "<style scoped>\n",
       "    .dataframe tbody tr th:only-of-type {\n",
       "        vertical-align: middle;\n",
       "    }\n",
       "\n",
       "    .dataframe tbody tr th {\n",
       "        vertical-align: top;\n",
       "    }\n",
       "\n",
       "    .dataframe thead th {\n",
       "        text-align: right;\n",
       "    }\n",
       "</style>\n",
       "<table border=\"1\" class=\"dataframe\">\n",
       "  <thead>\n",
       "    <tr style=\"text-align: right;\">\n",
       "      <th></th>\n",
       "      <th>Sepal_length</th>\n",
       "      <th>Sepal_width</th>\n",
       "      <th>Petal_length</th>\n",
       "      <th>Petal_width</th>\n",
       "      <th>Species</th>\n",
       "    </tr>\n",
       "  </thead>\n",
       "  <tbody>\n",
       "    <tr>\n",
       "      <th>0</th>\n",
       "      <td>2.50</td>\n",
       "      <td>0.44</td>\n",
       "      <td>1.67</td>\n",
       "      <td>3.00</td>\n",
       "      <td>Sentos</td>\n",
       "    </tr>\n",
       "    <tr>\n",
       "      <th>1</th>\n",
       "      <td>0.50</td>\n",
       "      <td>0.41</td>\n",
       "      <td>2.50</td>\n",
       "      <td>1.51</td>\n",
       "      <td>versicolor</td>\n",
       "    </tr>\n",
       "    <tr>\n",
       "      <th>2</th>\n",
       "      <td>4.40</td>\n",
       "      <td>0.12</td>\n",
       "      <td>8.10</td>\n",
       "      <td>2.20</td>\n",
       "      <td>virginica</td>\n",
       "    </tr>\n",
       "    <tr>\n",
       "      <th>3</th>\n",
       "      <td>1.50</td>\n",
       "      <td>3.10</td>\n",
       "      <td>7.40</td>\n",
       "      <td>2.10</td>\n",
       "      <td>Sentos</td>\n",
       "    </tr>\n",
       "    <tr>\n",
       "      <th>5</th>\n",
       "      <td>5.10</td>\n",
       "      <td>1.51</td>\n",
       "      <td>2.33</td>\n",
       "      <td>1.10</td>\n",
       "      <td>virginica</td>\n",
       "    </tr>\n",
       "    <tr>\n",
       "      <th>8</th>\n",
       "      <td>0.50</td>\n",
       "      <td>2.36</td>\n",
       "      <td>6.70</td>\n",
       "      <td>0.50</td>\n",
       "      <td>virginica</td>\n",
       "    </tr>\n",
       "    <tr>\n",
       "      <th>9</th>\n",
       "      <td>1.60</td>\n",
       "      <td>1.10</td>\n",
       "      <td>2.22</td>\n",
       "      <td>1.60</td>\n",
       "      <td>virginica</td>\n",
       "    </tr>\n",
       "    <tr>\n",
       "      <th>10</th>\n",
       "      <td>0.22</td>\n",
       "      <td>0.60</td>\n",
       "      <td>2.16</td>\n",
       "      <td>0.22</td>\n",
       "      <td>versicolor</td>\n",
       "    </tr>\n",
       "    <tr>\n",
       "      <th>11</th>\n",
       "      <td>0.50</td>\n",
       "      <td>7.10</td>\n",
       "      <td>2.00</td>\n",
       "      <td>0.50</td>\n",
       "      <td>Sentos</td>\n",
       "    </tr>\n",
       "    <tr>\n",
       "      <th>12</th>\n",
       "      <td>8.10</td>\n",
       "      <td>0.61</td>\n",
       "      <td>0.12</td>\n",
       "      <td>8.10</td>\n",
       "      <td>virginica</td>\n",
       "    </tr>\n",
       "    <tr>\n",
       "      <th>13</th>\n",
       "      <td>0.23</td>\n",
       "      <td>4.10</td>\n",
       "      <td>0.16</td>\n",
       "      <td>0.23</td>\n",
       "      <td>virginica</td>\n",
       "    </tr>\n",
       "    <tr>\n",
       "      <th>14</th>\n",
       "      <td>1.11</td>\n",
       "      <td>2.50</td>\n",
       "      <td>1.01</td>\n",
       "      <td>0.44</td>\n",
       "      <td>Sentos</td>\n",
       "    </tr>\n",
       "    <tr>\n",
       "      <th>15</th>\n",
       "      <td>1.60</td>\n",
       "      <td>6.10</td>\n",
       "      <td>2.20</td>\n",
       "      <td>0.41</td>\n",
       "      <td>versicolor</td>\n",
       "    </tr>\n",
       "    <tr>\n",
       "      <th>16</th>\n",
       "      <td>2.61</td>\n",
       "      <td>1.02</td>\n",
       "      <td>7.10</td>\n",
       "      <td>7.01</td>\n",
       "      <td>virginica</td>\n",
       "    </tr>\n",
       "    <tr>\n",
       "      <th>17</th>\n",
       "      <td>1.02</td>\n",
       "      <td>6.10</td>\n",
       "      <td>0.61</td>\n",
       "      <td>8.10</td>\n",
       "      <td>Sentos</td>\n",
       "    </tr>\n",
       "    <tr>\n",
       "      <th>18</th>\n",
       "      <td>6.10</td>\n",
       "      <td>1.06</td>\n",
       "      <td>6.12</td>\n",
       "      <td>2.30</td>\n",
       "      <td>versicolor</td>\n",
       "    </tr>\n",
       "  </tbody>\n",
       "</table>\n",
       "</div>"
      ],
      "text/plain": [
       "    Sepal_length  Sepal_width  Petal_length  Petal_width     Species\n",
       "0           2.50         0.44          1.67         3.00      Sentos\n",
       "1           0.50         0.41          2.50         1.51  versicolor\n",
       "2           4.40         0.12          8.10         2.20   virginica\n",
       "3           1.50         3.10          7.40         2.10      Sentos\n",
       "5           5.10         1.51          2.33         1.10   virginica\n",
       "8           0.50         2.36          6.70         0.50   virginica\n",
       "9           1.60         1.10          2.22         1.60   virginica\n",
       "10          0.22         0.60          2.16         0.22  versicolor\n",
       "11          0.50         7.10          2.00         0.50      Sentos\n",
       "12          8.10         0.61          0.12         8.10   virginica\n",
       "13          0.23         4.10          0.16         0.23   virginica\n",
       "14          1.11         2.50          1.01         0.44      Sentos\n",
       "15          1.60         6.10          2.20         0.41  versicolor\n",
       "16          2.61         1.02          7.10         7.01   virginica\n",
       "17          1.02         6.10          0.61         8.10      Sentos\n",
       "18          6.10         1.06          6.12         2.30  versicolor"
      ]
     },
     "execution_count": 38,
     "metadata": {},
     "output_type": "execute_result"
    }
   ],
   "source": [
    "iris.drop([4,6,7],axis=0)   # dropping rows axis =0"
   ]
  },
  {
   "cell_type": "markdown",
   "id": "47778f56-115e-409a-ba3d-455892ff3aef",
   "metadata": {},
   "source": [
    "#more pandas fuction \n",
    "iris.mean()\n",
    "iris.max()\n",
    "iris.min()\n",
    "iris.median()"
   ]
  },
  {
   "cell_type": "code",
   "execution_count": 39,
   "id": "32f8381b-6e19-454f-9df2-e28dff8b011b",
   "metadata": {},
   "outputs": [
    {
     "name": "stderr",
     "output_type": "stream",
     "text": [
      "C:\\Users\\Tanushree Sahu\\AppData\\Local\\Temp\\ipykernel_5416\\935066809.py:1: FutureWarning: The default value of numeric_only in DataFrame.mean is deprecated. In a future version, it will default to False. In addition, specifying 'numeric_only=None' is deprecated. Select only valid columns or specify the value of numeric_only to silence this warning.\n",
      "  iris.mean()\n"
     ]
    },
    {
     "data": {
      "text/plain": [
       "Sepal_length    2.778421\n",
       "Sepal_width     2.396316\n",
       "Petal_length    3.189474\n",
       "Petal_width     2.930526\n",
       "dtype: float64"
      ]
     },
     "execution_count": 39,
     "metadata": {},
     "output_type": "execute_result"
    }
   ],
   "source": [
    "iris.mean()"
   ]
  },
  {
   "cell_type": "code",
   "execution_count": 40,
   "id": "34325af5-04bc-40ae-b3a9-5ba7c1b5a0f4",
   "metadata": {},
   "outputs": [
    {
     "data": {
      "text/plain": [
       "Sepal_length          8.1\n",
       "Sepal_width           7.1\n",
       "Petal_length          8.1\n",
       "Petal_width           8.1\n",
       "Species         virginica\n",
       "dtype: object"
      ]
     },
     "execution_count": 40,
     "metadata": {},
     "output_type": "execute_result"
    }
   ],
   "source": [
    "iris.max()"
   ]
  },
  {
   "cell_type": "code",
   "execution_count": 41,
   "id": "11b90648-06e4-42d8-ad6a-fb32a2b24a1b",
   "metadata": {},
   "outputs": [
    {
     "data": {
      "text/plain": [
       "Sepal_length      0.22\n",
       "Sepal_width       0.12\n",
       "Petal_length      0.12\n",
       "Petal_width       0.22\n",
       "Species         Sentos\n",
       "dtype: object"
      ]
     },
     "execution_count": 41,
     "metadata": {},
     "output_type": "execute_result"
    }
   ],
   "source": [
    "iris.min()"
   ]
  },
  {
   "cell_type": "code",
   "execution_count": 42,
   "id": "60877412-2571-4ee8-87fa-50b6325d33f2",
   "metadata": {},
   "outputs": [
    {
     "name": "stderr",
     "output_type": "stream",
     "text": [
      "C:\\Users\\Tanushree Sahu\\AppData\\Local\\Temp\\ipykernel_5416\\1297003277.py:1: FutureWarning: The default value of numeric_only in DataFrame.median is deprecated. In a future version, it will default to False. In addition, specifying 'numeric_only=None' is deprecated. Select only valid columns or specify the value of numeric_only to silence this warning.\n",
      "  iris.median()\n"
     ]
    },
    {
     "data": {
      "text/plain": [
       "Sepal_length    1.60\n",
       "Sepal_width     2.10\n",
       "Petal_length    2.22\n",
       "Petal_width     2.10\n",
       "dtype: float64"
      ]
     },
     "execution_count": 42,
     "metadata": {},
     "output_type": "execute_result"
    }
   ],
   "source": [
    "iris.median()"
   ]
  },
  {
   "cell_type": "code",
   "execution_count": 43,
   "id": "962f7e44-f8ab-4c22-8e91-4805c39435f7",
   "metadata": {},
   "outputs": [
    {
     "data": {
      "text/html": [
       "<div>\n",
       "<style scoped>\n",
       "    .dataframe tbody tr th:only-of-type {\n",
       "        vertical-align: middle;\n",
       "    }\n",
       "\n",
       "    .dataframe tbody tr th {\n",
       "        vertical-align: top;\n",
       "    }\n",
       "\n",
       "    .dataframe thead th {\n",
       "        text-align: right;\n",
       "    }\n",
       "</style>\n",
       "<table border=\"1\" class=\"dataframe\">\n",
       "  <thead>\n",
       "    <tr style=\"text-align: right;\">\n",
       "      <th></th>\n",
       "      <th>Sepal_length</th>\n",
       "      <th>Sepal_width</th>\n",
       "      <th>Petal_length</th>\n",
       "      <th>Petal_width</th>\n",
       "      <th>Species</th>\n",
       "    </tr>\n",
       "  </thead>\n",
       "  <tbody>\n",
       "    <tr>\n",
       "      <th>0</th>\n",
       "      <td>2.5</td>\n",
       "      <td>0.44</td>\n",
       "      <td>1.67</td>\n",
       "      <td>3.00</td>\n",
       "      <td>Sentos</td>\n",
       "    </tr>\n",
       "    <tr>\n",
       "      <th>1</th>\n",
       "      <td>0.5</td>\n",
       "      <td>0.41</td>\n",
       "      <td>2.50</td>\n",
       "      <td>1.51</td>\n",
       "      <td>versicolor</td>\n",
       "    </tr>\n",
       "    <tr>\n",
       "      <th>2</th>\n",
       "      <td>4.4</td>\n",
       "      <td>0.12</td>\n",
       "      <td>8.10</td>\n",
       "      <td>2.20</td>\n",
       "      <td>virginica</td>\n",
       "    </tr>\n",
       "    <tr>\n",
       "      <th>3</th>\n",
       "      <td>1.5</td>\n",
       "      <td>3.10</td>\n",
       "      <td>7.40</td>\n",
       "      <td>2.10</td>\n",
       "      <td>Sentos</td>\n",
       "    </tr>\n",
       "    <tr>\n",
       "      <th>4</th>\n",
       "      <td>1.2</td>\n",
       "      <td>3.00</td>\n",
       "      <td>2.10</td>\n",
       "      <td>2.36</td>\n",
       "      <td>Sentos</td>\n",
       "    </tr>\n",
       "  </tbody>\n",
       "</table>\n",
       "</div>"
      ],
      "text/plain": [
       "   Sepal_length  Sepal_width  Petal_length  Petal_width     Species\n",
       "0           2.5         0.44          1.67         3.00      Sentos\n",
       "1           0.5         0.41          2.50         1.51  versicolor\n",
       "2           4.4         0.12          8.10         2.20   virginica\n",
       "3           1.5         3.10          7.40         2.10      Sentos\n",
       "4           1.2         3.00          2.10         2.36      Sentos"
      ]
     },
     "execution_count": 43,
     "metadata": {},
     "output_type": "execute_result"
    }
   ],
   "source": [
    "iris.head()"
   ]
  },
  {
   "cell_type": "code",
   "execution_count": 44,
   "id": "4c3cb850-1ffb-4902-9e54-26c6fc2a0aa4",
   "metadata": {},
   "outputs": [],
   "source": [
    "def half(s):\n",
    "    return s*0.5"
   ]
  },
  {
   "cell_type": "code",
   "execution_count": 45,
   "id": "bbe05211-0fc6-46e9-88a6-53987085d03d",
   "metadata": {},
   "outputs": [
    {
     "data": {
      "text/html": [
       "<div>\n",
       "<style scoped>\n",
       "    .dataframe tbody tr th:only-of-type {\n",
       "        vertical-align: middle;\n",
       "    }\n",
       "\n",
       "    .dataframe tbody tr th {\n",
       "        vertical-align: top;\n",
       "    }\n",
       "\n",
       "    .dataframe thead th {\n",
       "        text-align: right;\n",
       "    }\n",
       "</style>\n",
       "<table border=\"1\" class=\"dataframe\">\n",
       "  <thead>\n",
       "    <tr style=\"text-align: right;\">\n",
       "      <th></th>\n",
       "      <th>Sepal_length</th>\n",
       "      <th>Petal_length</th>\n",
       "    </tr>\n",
       "  </thead>\n",
       "  <tbody>\n",
       "    <tr>\n",
       "      <th>0</th>\n",
       "      <td>1.250</td>\n",
       "      <td>0.835</td>\n",
       "    </tr>\n",
       "    <tr>\n",
       "      <th>1</th>\n",
       "      <td>0.250</td>\n",
       "      <td>1.250</td>\n",
       "    </tr>\n",
       "    <tr>\n",
       "      <th>2</th>\n",
       "      <td>2.200</td>\n",
       "      <td>4.050</td>\n",
       "    </tr>\n",
       "    <tr>\n",
       "      <th>3</th>\n",
       "      <td>0.750</td>\n",
       "      <td>3.700</td>\n",
       "    </tr>\n",
       "    <tr>\n",
       "      <th>4</th>\n",
       "      <td>0.600</td>\n",
       "      <td>1.050</td>\n",
       "    </tr>\n",
       "    <tr>\n",
       "      <th>5</th>\n",
       "      <td>2.550</td>\n",
       "      <td>1.165</td>\n",
       "    </tr>\n",
       "    <tr>\n",
       "      <th>6</th>\n",
       "      <td>3.150</td>\n",
       "      <td>1.400</td>\n",
       "    </tr>\n",
       "    <tr>\n",
       "      <th>7</th>\n",
       "      <td>3.850</td>\n",
       "      <td>1.650</td>\n",
       "    </tr>\n",
       "    <tr>\n",
       "      <th>8</th>\n",
       "      <td>0.250</td>\n",
       "      <td>3.350</td>\n",
       "    </tr>\n",
       "    <tr>\n",
       "      <th>9</th>\n",
       "      <td>0.800</td>\n",
       "      <td>1.110</td>\n",
       "    </tr>\n",
       "    <tr>\n",
       "      <th>10</th>\n",
       "      <td>0.110</td>\n",
       "      <td>1.080</td>\n",
       "    </tr>\n",
       "    <tr>\n",
       "      <th>11</th>\n",
       "      <td>0.250</td>\n",
       "      <td>1.000</td>\n",
       "    </tr>\n",
       "    <tr>\n",
       "      <th>12</th>\n",
       "      <td>4.050</td>\n",
       "      <td>0.060</td>\n",
       "    </tr>\n",
       "    <tr>\n",
       "      <th>13</th>\n",
       "      <td>0.115</td>\n",
       "      <td>0.080</td>\n",
       "    </tr>\n",
       "    <tr>\n",
       "      <th>14</th>\n",
       "      <td>0.555</td>\n",
       "      <td>0.505</td>\n",
       "    </tr>\n",
       "    <tr>\n",
       "      <th>15</th>\n",
       "      <td>0.800</td>\n",
       "      <td>1.100</td>\n",
       "    </tr>\n",
       "    <tr>\n",
       "      <th>16</th>\n",
       "      <td>1.305</td>\n",
       "      <td>3.550</td>\n",
       "    </tr>\n",
       "    <tr>\n",
       "      <th>17</th>\n",
       "      <td>0.510</td>\n",
       "      <td>0.305</td>\n",
       "    </tr>\n",
       "    <tr>\n",
       "      <th>18</th>\n",
       "      <td>3.050</td>\n",
       "      <td>3.060</td>\n",
       "    </tr>\n",
       "  </tbody>\n",
       "</table>\n",
       "</div>"
      ],
      "text/plain": [
       "    Sepal_length  Petal_length\n",
       "0          1.250         0.835\n",
       "1          0.250         1.250\n",
       "2          2.200         4.050\n",
       "3          0.750         3.700\n",
       "4          0.600         1.050\n",
       "5          2.550         1.165\n",
       "6          3.150         1.400\n",
       "7          3.850         1.650\n",
       "8          0.250         3.350\n",
       "9          0.800         1.110\n",
       "10         0.110         1.080\n",
       "11         0.250         1.000\n",
       "12         4.050         0.060\n",
       "13         0.115         0.080\n",
       "14         0.555         0.505\n",
       "15         0.800         1.100\n",
       "16         1.305         3.550\n",
       "17         0.510         0.305\n",
       "18         3.050         3.060"
      ]
     },
     "execution_count": 45,
     "metadata": {},
     "output_type": "execute_result"
    }
   ],
   "source": [
    "iris[['Sepal_length',\"Petal_length\"]].apply(half)"
   ]
  },
  {
   "cell_type": "code",
   "execution_count": 46,
   "id": "3b1cf375-c9f6-47f9-905e-5883e61d97e1",
   "metadata": {},
   "outputs": [
    {
     "data": {
      "text/plain": [
       "Sentos        7\n",
       "virginica     7\n",
       "versicolor    5\n",
       "Name: Species, dtype: int64"
      ]
     },
     "execution_count": 46,
     "metadata": {},
     "output_type": "execute_result"
    }
   ],
   "source": [
    "# value_counts()......> counts particular columns values\n",
    "\n",
    "iris[\"Species\"].value_counts()"
   ]
  },
  {
   "cell_type": "code",
   "execution_count": 47,
   "id": "10e24a06-0cf7-42ba-8673-711c52dd6089",
   "metadata": {},
   "outputs": [
    {
     "data": {
      "text/html": [
       "<div>\n",
       "<style scoped>\n",
       "    .dataframe tbody tr th:only-of-type {\n",
       "        vertical-align: middle;\n",
       "    }\n",
       "\n",
       "    .dataframe tbody tr th {\n",
       "        vertical-align: top;\n",
       "    }\n",
       "\n",
       "    .dataframe thead th {\n",
       "        text-align: right;\n",
       "    }\n",
       "</style>\n",
       "<table border=\"1\" class=\"dataframe\">\n",
       "  <thead>\n",
       "    <tr style=\"text-align: right;\">\n",
       "      <th></th>\n",
       "      <th>Sepal_length</th>\n",
       "      <th>Sepal_width</th>\n",
       "      <th>Petal_length</th>\n",
       "      <th>Petal_width</th>\n",
       "      <th>Species</th>\n",
       "    </tr>\n",
       "  </thead>\n",
       "  <tbody>\n",
       "    <tr>\n",
       "      <th>10</th>\n",
       "      <td>0.22</td>\n",
       "      <td>0.60</td>\n",
       "      <td>2.16</td>\n",
       "      <td>0.22</td>\n",
       "      <td>versicolor</td>\n",
       "    </tr>\n",
       "    <tr>\n",
       "      <th>13</th>\n",
       "      <td>0.23</td>\n",
       "      <td>4.10</td>\n",
       "      <td>0.16</td>\n",
       "      <td>0.23</td>\n",
       "      <td>virginica</td>\n",
       "    </tr>\n",
       "    <tr>\n",
       "      <th>1</th>\n",
       "      <td>0.50</td>\n",
       "      <td>0.41</td>\n",
       "      <td>2.50</td>\n",
       "      <td>1.51</td>\n",
       "      <td>versicolor</td>\n",
       "    </tr>\n",
       "    <tr>\n",
       "      <th>11</th>\n",
       "      <td>0.50</td>\n",
       "      <td>7.10</td>\n",
       "      <td>2.00</td>\n",
       "      <td>0.50</td>\n",
       "      <td>Sentos</td>\n",
       "    </tr>\n",
       "    <tr>\n",
       "      <th>8</th>\n",
       "      <td>0.50</td>\n",
       "      <td>2.36</td>\n",
       "      <td>6.70</td>\n",
       "      <td>0.50</td>\n",
       "      <td>virginica</td>\n",
       "    </tr>\n",
       "    <tr>\n",
       "      <th>17</th>\n",
       "      <td>1.02</td>\n",
       "      <td>6.10</td>\n",
       "      <td>0.61</td>\n",
       "      <td>8.10</td>\n",
       "      <td>Sentos</td>\n",
       "    </tr>\n",
       "    <tr>\n",
       "      <th>14</th>\n",
       "      <td>1.11</td>\n",
       "      <td>2.50</td>\n",
       "      <td>1.01</td>\n",
       "      <td>0.44</td>\n",
       "      <td>Sentos</td>\n",
       "    </tr>\n",
       "    <tr>\n",
       "      <th>4</th>\n",
       "      <td>1.20</td>\n",
       "      <td>3.00</td>\n",
       "      <td>2.10</td>\n",
       "      <td>2.36</td>\n",
       "      <td>Sentos</td>\n",
       "    </tr>\n",
       "    <tr>\n",
       "      <th>3</th>\n",
       "      <td>1.50</td>\n",
       "      <td>3.10</td>\n",
       "      <td>7.40</td>\n",
       "      <td>2.10</td>\n",
       "      <td>Sentos</td>\n",
       "    </tr>\n",
       "    <tr>\n",
       "      <th>9</th>\n",
       "      <td>1.60</td>\n",
       "      <td>1.10</td>\n",
       "      <td>2.22</td>\n",
       "      <td>1.60</td>\n",
       "      <td>virginica</td>\n",
       "    </tr>\n",
       "    <tr>\n",
       "      <th>15</th>\n",
       "      <td>1.60</td>\n",
       "      <td>6.10</td>\n",
       "      <td>2.20</td>\n",
       "      <td>0.41</td>\n",
       "      <td>versicolor</td>\n",
       "    </tr>\n",
       "    <tr>\n",
       "      <th>0</th>\n",
       "      <td>2.50</td>\n",
       "      <td>0.44</td>\n",
       "      <td>1.67</td>\n",
       "      <td>3.00</td>\n",
       "      <td>Sentos</td>\n",
       "    </tr>\n",
       "    <tr>\n",
       "      <th>16</th>\n",
       "      <td>2.61</td>\n",
       "      <td>1.02</td>\n",
       "      <td>7.10</td>\n",
       "      <td>7.01</td>\n",
       "      <td>virginica</td>\n",
       "    </tr>\n",
       "    <tr>\n",
       "      <th>2</th>\n",
       "      <td>4.40</td>\n",
       "      <td>0.12</td>\n",
       "      <td>8.10</td>\n",
       "      <td>2.20</td>\n",
       "      <td>virginica</td>\n",
       "    </tr>\n",
       "    <tr>\n",
       "      <th>5</th>\n",
       "      <td>5.10</td>\n",
       "      <td>1.51</td>\n",
       "      <td>2.33</td>\n",
       "      <td>1.10</td>\n",
       "      <td>virginica</td>\n",
       "    </tr>\n",
       "    <tr>\n",
       "      <th>18</th>\n",
       "      <td>6.10</td>\n",
       "      <td>1.06</td>\n",
       "      <td>6.12</td>\n",
       "      <td>2.30</td>\n",
       "      <td>versicolor</td>\n",
       "    </tr>\n",
       "    <tr>\n",
       "      <th>6</th>\n",
       "      <td>6.30</td>\n",
       "      <td>2.20</td>\n",
       "      <td>2.80</td>\n",
       "      <td>6.30</td>\n",
       "      <td>versicolor</td>\n",
       "    </tr>\n",
       "    <tr>\n",
       "      <th>7</th>\n",
       "      <td>7.70</td>\n",
       "      <td>2.10</td>\n",
       "      <td>3.30</td>\n",
       "      <td>7.70</td>\n",
       "      <td>Sentos</td>\n",
       "    </tr>\n",
       "    <tr>\n",
       "      <th>12</th>\n",
       "      <td>8.10</td>\n",
       "      <td>0.61</td>\n",
       "      <td>0.12</td>\n",
       "      <td>8.10</td>\n",
       "      <td>virginica</td>\n",
       "    </tr>\n",
       "  </tbody>\n",
       "</table>\n",
       "</div>"
      ],
      "text/plain": [
       "    Sepal_length  Sepal_width  Petal_length  Petal_width     Species\n",
       "10          0.22         0.60          2.16         0.22  versicolor\n",
       "13          0.23         4.10          0.16         0.23   virginica\n",
       "1           0.50         0.41          2.50         1.51  versicolor\n",
       "11          0.50         7.10          2.00         0.50      Sentos\n",
       "8           0.50         2.36          6.70         0.50   virginica\n",
       "17          1.02         6.10          0.61         8.10      Sentos\n",
       "14          1.11         2.50          1.01         0.44      Sentos\n",
       "4           1.20         3.00          2.10         2.36      Sentos\n",
       "3           1.50         3.10          7.40         2.10      Sentos\n",
       "9           1.60         1.10          2.22         1.60   virginica\n",
       "15          1.60         6.10          2.20         0.41  versicolor\n",
       "0           2.50         0.44          1.67         3.00      Sentos\n",
       "16          2.61         1.02          7.10         7.01   virginica\n",
       "2           4.40         0.12          8.10         2.20   virginica\n",
       "5           5.10         1.51          2.33         1.10   virginica\n",
       "18          6.10         1.06          6.12         2.30  versicolor\n",
       "6           6.30         2.20          2.80         6.30  versicolor\n",
       "7           7.70         2.10          3.30         7.70      Sentos\n",
       "12          8.10         0.61          0.12         8.10   virginica"
      ]
     },
     "execution_count": 47,
     "metadata": {},
     "output_type": "execute_result"
    }
   ],
   "source": [
    "# sort_values()\n",
    "iris.sort_values(by=\"Sepal_length\")"
   ]
  },
  {
   "cell_type": "code",
   "execution_count": null,
   "id": "e7859c93-0519-4ab6-914a-6c8d58a45fbc",
   "metadata": {},
   "outputs": [],
   "source": []
  }
 ],
 "metadata": {
  "kernelspec": {
   "display_name": "Python 3 (ipykernel)",
   "language": "python",
   "name": "python3"
  },
  "language_info": {
   "codemirror_mode": {
    "name": "ipython",
    "version": 3
   },
   "file_extension": ".py",
   "mimetype": "text/x-python",
   "name": "python",
   "nbconvert_exporter": "python",
   "pygments_lexer": "ipython3",
   "version": "3.10.8"
  }
 },
 "nbformat": 4,
 "nbformat_minor": 5
}
