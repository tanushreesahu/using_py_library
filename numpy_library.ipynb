{
 "cells": [
  {
   "cell_type": "markdown",
   "id": "4bf0b1a6-48a9-40c1-b817-23e68e0b6c92",
   "metadata": {},
   "source": [
    "# Numpy is core library for Numerical computing "
   ]
  },
  {
   "cell_type": "markdown",
   "id": "cf0ec47d-7b10-4dff-8fa4-2612de7d6e77",
   "metadata": {},
   "source": [
    "Its consist of multi-dimensional array object and you will process it "
   ]
  },
  {
   "cell_type": "raw",
   "id": "cbcfe09c-8703-486e-9513-2f7296ce238d",
   "metadata": {},
   "source": [
    "# Create Numpy array"
   ]
  },
  {
   "cell_type": "code",
   "execution_count": 1,
   "id": "c5f6a858-c22e-4d3d-8141-f54d3dcaf837",
   "metadata": {},
   "outputs": [],
   "source": [
    "import numpy as np"
   ]
  },
  {
   "cell_type": "code",
   "execution_count": 2,
   "id": "f2155ecb-d7f9-4316-818e-130225dfc72b",
   "metadata": {},
   "outputs": [
    {
     "data": {
      "text/plain": [
       "array([1, 2, 3, 4])"
      ]
     },
     "execution_count": 2,
     "metadata": {},
     "output_type": "execute_result"
    }
   ],
   "source": [
    "n1=np.array([1,2,3,4,])\n",
    "n1"
   ]
  },
  {
   "cell_type": "code",
   "execution_count": 7,
   "id": "fb72d94e-b62e-4ea7-a03f-f9137be0d00b",
   "metadata": {},
   "outputs": [],
   "source": [
    "# multi-dimension"
   ]
  },
  {
   "cell_type": "code",
   "execution_count": 3,
   "id": "71320a0c-3e59-4947-b33e-fa6f84804b18",
   "metadata": {},
   "outputs": [],
   "source": [
    "n2= np.array([[1,2,3],[4,5,6]])"
   ]
  },
  {
   "cell_type": "code",
   "execution_count": 4,
   "id": "9a756dd5-351e-42f9-b5ea-0ed22c1e3f42",
   "metadata": {},
   "outputs": [
    {
     "data": {
      "text/plain": [
       "array([[1, 2, 3],\n",
       "       [4, 5, 6]])"
      ]
     },
     "execution_count": 4,
     "metadata": {},
     "output_type": "execute_result"
    }
   ],
   "source": [
    "n2"
   ]
  },
  {
   "cell_type": "code",
   "execution_count": 5,
   "id": "ea4a4afb-dc36-490d-9fa6-724cbdd8c264",
   "metadata": {},
   "outputs": [
    {
     "data": {
      "text/plain": [
       "numpy.ndarray"
      ]
     },
     "execution_count": 5,
     "metadata": {},
     "output_type": "execute_result"
    }
   ],
   "source": [
    "type(n2)"
   ]
  },
  {
   "cell_type": "code",
   "execution_count": 6,
   "id": "84666f31-4a05-41d3-a714-a1fd3c9be855",
   "metadata": {},
   "outputs": [],
   "source": [
    "# Initializing numpy array with zeros "
   ]
  },
  {
   "cell_type": "code",
   "execution_count": 8,
   "id": "84d7907a-e2f6-4532-a57b-85bc0501caee",
   "metadata": {},
   "outputs": [
    {
     "data": {
      "text/plain": [
       "array([[0., 0.]])"
      ]
     },
     "execution_count": 8,
     "metadata": {},
     "output_type": "execute_result"
    }
   ],
   "source": [
    "n1=np.zeros((1,2))\n",
    "n1"
   ]
  },
  {
   "cell_type": "code",
   "execution_count": 9,
   "id": "c80fc304-18eb-444e-9352-f9c3fe12fea7",
   "metadata": {},
   "outputs": [
    {
     "data": {
      "text/plain": [
       "array([[12, 12, 12],\n",
       "       [12, 12, 12]])"
      ]
     },
     "execution_count": 9,
     "metadata": {},
     "output_type": "execute_result"
    }
   ],
   "source": [
    "n1=np.full((2,3),12)\n",
    "n1"
   ]
  },
  {
   "cell_type": "code",
   "execution_count": 10,
   "id": "6aed464f-8423-4b7d-bc38-20dc9fdb9b9a",
   "metadata": {},
   "outputs": [],
   "source": [
    "# Initializing numpy with arange "
   ]
  },
  {
   "cell_type": "code",
   "execution_count": 11,
   "id": "17b575a3-ca94-46d5-bd5a-5dd59625bd0e",
   "metadata": {},
   "outputs": [],
   "source": [
    "n1=np.arange(10,20)           # start , end-exclusive"
   ]
  },
  {
   "cell_type": "code",
   "execution_count": 12,
   "id": "b57701e0-e128-44f8-936c-9f1b8ba35fca",
   "metadata": {},
   "outputs": [
    {
     "data": {
      "text/plain": [
       "array([10, 11, 12, 13, 14, 15, 16, 17, 18, 19])"
      ]
     },
     "execution_count": 12,
     "metadata": {},
     "output_type": "execute_result"
    }
   ],
   "source": [
    "n1"
   ]
  },
  {
   "cell_type": "code",
   "execution_count": 15,
   "id": "169c0536-3cd0-44e5-8093-23fffae4ccef",
   "metadata": {},
   "outputs": [],
   "source": [
    "n2= np.arange(10,50,5)    # start, end -exclusive , stepping"
   ]
  },
  {
   "cell_type": "code",
   "execution_count": 16,
   "id": "3d2912e3-a2b1-4f66-881c-d7dc43a9ebee",
   "metadata": {},
   "outputs": [
    {
     "data": {
      "text/plain": [
       "array([10, 15, 20, 25, 30, 35, 40, 45])"
      ]
     },
     "execution_count": 16,
     "metadata": {},
     "output_type": "execute_result"
    }
   ],
   "source": [
    "n2"
   ]
  },
  {
   "cell_type": "code",
   "execution_count": 17,
   "id": "fc1e3065-5426-4c51-9d3a-85efe25e90eb",
   "metadata": {},
   "outputs": [],
   "source": [
    "# Initailizing numpy with random number "
   ]
  },
  {
   "cell_type": "code",
   "execution_count": 18,
   "id": "e9e9982b-ff15-446e-b28e-c4c1800a97ab",
   "metadata": {},
   "outputs": [],
   "source": [
    "n3=np.random.randint(1,100,5)   # Any 5 random numbers B/w 1 to 100"
   ]
  },
  {
   "cell_type": "code",
   "execution_count": 19,
   "id": "8464c144-4f0e-469a-9c6c-49e69c8dc0ea",
   "metadata": {},
   "outputs": [
    {
     "data": {
      "text/plain": [
       "array([53, 31, 51, 82, 48])"
      ]
     },
     "execution_count": 19,
     "metadata": {},
     "output_type": "execute_result"
    }
   ],
   "source": [
    "n3"
   ]
  },
  {
   "cell_type": "code",
   "execution_count": 20,
   "id": "8954d4eb-9250-461d-87c6-d36f0798f2af",
   "metadata": {},
   "outputs": [],
   "source": [
    "# Shape method-  consist the row and column of your array"
   ]
  },
  {
   "cell_type": "code",
   "execution_count": 27,
   "id": "3283b9bf-ee4a-47dd-97fc-2c1efbb00f2a",
   "metadata": {},
   "outputs": [
    {
     "data": {
      "text/plain": [
       "(2, 3)"
      ]
     },
     "execution_count": 27,
     "metadata": {},
     "output_type": "execute_result"
    }
   ],
   "source": [
    "n1=np.array([[1,2,3],[4,5,6]])\n",
    "n1.shape"
   ]
  },
  {
   "cell_type": "code",
   "execution_count": 28,
   "id": "b5b8193f-ee80-482c-97fe-b91ee203a70a",
   "metadata": {},
   "outputs": [],
   "source": [
    "# how to change of your array shape "
   ]
  },
  {
   "cell_type": "code",
   "execution_count": 29,
   "id": "7dd8a3d7-bfa1-4039-a143-b7a250d62a55",
   "metadata": {},
   "outputs": [
    {
     "data": {
      "text/plain": [
       "(3, 2)"
      ]
     },
     "execution_count": 29,
     "metadata": {},
     "output_type": "execute_result"
    }
   ],
   "source": [
    "n1.shape=(3,2)\n",
    "n1.shape"
   ]
  },
  {
   "cell_type": "code",
   "execution_count": 30,
   "id": "88e95a66-8815-44c3-a244-0014ca183276",
   "metadata": {},
   "outputs": [
    {
     "data": {
      "text/plain": [
       "array([[1, 2],\n",
       "       [3, 4],\n",
       "       [5, 6]])"
      ]
     },
     "execution_count": 30,
     "metadata": {},
     "output_type": "execute_result"
    }
   ],
   "source": [
    "n1"
   ]
  },
  {
   "cell_type": "markdown",
   "id": "b7654ece-ff17-498c-adea-208bb6743d45",
   "metadata": {},
   "source": [
    "# joining Numpy arrays"
   ]
  },
  {
   "cell_type": "code",
   "execution_count": 34,
   "id": "1c62cd81-e911-4d10-b084-75783cd5b8a4",
   "metadata": {},
   "outputs": [],
   "source": [
    "# vstack() vertical stack \n",
    "# hstack() horizontal stack\n",
    "# column_stack()"
   ]
  },
  {
   "cell_type": "code",
   "execution_count": 33,
   "id": "e338ddf5-2b9d-461b-bf95-73ef3de4f22a",
   "metadata": {},
   "outputs": [
    {
     "data": {
      "text/plain": [
       "array([[10, 20, 30],\n",
       "       [40, 50, 60]])"
      ]
     },
     "execution_count": 33,
     "metadata": {},
     "output_type": "execute_result"
    }
   ],
   "source": [
    "n4=np.array([10,20,30,])\n",
    "n5=np.array([40,50,60])\n",
    "np.vstack((n4,n5))"
   ]
  },
  {
   "cell_type": "code",
   "execution_count": 35,
   "id": "b2dd8e38-5a68-4d86-82a8-44c8f58e9d05",
   "metadata": {},
   "outputs": [
    {
     "data": {
      "text/plain": [
       "array([10, 20, 30, 40, 50, 60])"
      ]
     },
     "execution_count": 35,
     "metadata": {},
     "output_type": "execute_result"
    }
   ],
   "source": [
    "np.hstack((n4,n5))"
   ]
  },
  {
   "cell_type": "code",
   "execution_count": 36,
   "id": "4d656c3c-73ef-493b-99f0-ea03761206d5",
   "metadata": {},
   "outputs": [
    {
     "data": {
      "text/plain": [
       "array([[10, 40],\n",
       "       [20, 50],\n",
       "       [30, 60]])"
      ]
     },
     "execution_count": 36,
     "metadata": {},
     "output_type": "execute_result"
    }
   ],
   "source": [
    "np.column_stack((n4,n5))"
   ]
  },
  {
   "cell_type": "code",
   "execution_count": 37,
   "id": "3f291706-dfa7-4e0a-adb5-203ba256618c",
   "metadata": {},
   "outputs": [],
   "source": [
    "# Intersection (common elements)"
   ]
  },
  {
   "cell_type": "code",
   "execution_count": 42,
   "id": "b15dfd33-ab83-4fe9-beb9-6d72090a5424",
   "metadata": {},
   "outputs": [
    {
     "data": {
      "text/plain": [
       "array([5, 6])"
      ]
     },
     "execution_count": 42,
     "metadata": {},
     "output_type": "execute_result"
    }
   ],
   "source": [
    "n1=np.array([1,2,3,4,5,6])\n",
    "n2=np.array([5,6,7,8,9])\n",
    "np.intersect1d(n1,n2)"
   ]
  },
  {
   "cell_type": "code",
   "execution_count": 43,
   "id": "91b9d485-0ba1-4a0c-b5f4-d4486afe5abf",
   "metadata": {},
   "outputs": [
    {
     "data": {
      "text/plain": [
       "array([1, 2, 3, 4])"
      ]
     },
     "execution_count": 43,
     "metadata": {},
     "output_type": "execute_result"
    }
   ],
   "source": [
    "np.setdiff1d(n1,n2)     # n1-n2"
   ]
  },
  {
   "cell_type": "code",
   "execution_count": 44,
   "id": "fe853178-a2a6-4556-8363-04acf0466360",
   "metadata": {},
   "outputs": [
    {
     "data": {
      "text/plain": [
       "array([7, 8, 9])"
      ]
     },
     "execution_count": 44,
     "metadata": {},
     "output_type": "execute_result"
    }
   ],
   "source": [
    "np.setdiff1d(n2,n1)   # common element eliminate "
   ]
  },
  {
   "cell_type": "code",
   "execution_count": 45,
   "id": "49f64b3a-faea-462b-840f-5a7df6cfd6c0",
   "metadata": {},
   "outputs": [],
   "source": [
    "# Addition of numpy array "
   ]
  },
  {
   "cell_type": "code",
   "execution_count": 46,
   "id": "51395efd-a444-4455-b212-459fe7f0b77c",
   "metadata": {},
   "outputs": [
    {
     "data": {
      "text/plain": [
       "100"
      ]
     },
     "execution_count": 46,
     "metadata": {},
     "output_type": "execute_result"
    }
   ],
   "source": [
    "m1=np.array([10,20])\n",
    "m2= np.array([30,40])\n",
    "np.sum([m1,m2])"
   ]
  },
  {
   "cell_type": "code",
   "execution_count": 47,
   "id": "ab43d6dd-1faa-4eed-9b14-0eed0565e063",
   "metadata": {},
   "outputs": [
    {
     "data": {
      "text/plain": [
       "array([40, 60])"
      ]
     },
     "execution_count": 47,
     "metadata": {},
     "output_type": "execute_result"
    }
   ],
   "source": [
    "np.sum([m1,m2],axis=0)     # columns add"
   ]
  },
  {
   "cell_type": "code",
   "execution_count": 48,
   "id": "c3302b19-a62f-4605-b538-6a1f6678b141",
   "metadata": {},
   "outputs": [
    {
     "data": {
      "text/plain": [
       "array([30, 70])"
      ]
     },
     "execution_count": 48,
     "metadata": {},
     "output_type": "execute_result"
    }
   ],
   "source": [
    "np.sum([m1,m2],axis=1)    # rows add"
   ]
  },
  {
   "cell_type": "code",
   "execution_count": 49,
   "id": "ce8b0619-11aa-460b-ba6d-0ad978c11c2d",
   "metadata": {},
   "outputs": [],
   "source": [
    "# Numpy Array with Mathematics "
   ]
  },
  {
   "cell_type": "code",
   "execution_count": 50,
   "id": "d72ac0ce-05b4-4b5c-a157-fc255ad19511",
   "metadata": {},
   "outputs": [],
   "source": [
    "# Basic add\n",
    "n1=np.array([10,20,30])"
   ]
  },
  {
   "cell_type": "code",
   "execution_count": 51,
   "id": "b1adac74-2547-4cf0-ba37-084767cc5477",
   "metadata": {},
   "outputs": [],
   "source": [
    "n1=n1+1"
   ]
  },
  {
   "cell_type": "code",
   "execution_count": 52,
   "id": "8f37210c-2d1f-4107-a51c-8a288728a872",
   "metadata": {},
   "outputs": [
    {
     "data": {
      "text/plain": [
       "array([11, 21, 31])"
      ]
     },
     "execution_count": 52,
     "metadata": {},
     "output_type": "execute_result"
    }
   ],
   "source": [
    "n1"
   ]
  },
  {
   "cell_type": "code",
   "execution_count": 55,
   "id": "abe346a5-2f11-4a2f-88d4-4bbf9f66b074",
   "metadata": {},
   "outputs": [
    {
     "data": {
      "text/plain": [
       "array([20, 40, 60])"
      ]
     },
     "execution_count": 55,
     "metadata": {},
     "output_type": "execute_result"
    }
   ],
   "source": [
    "n1=np.array([10,20,30])\n",
    "n1=n1*2\n",
    "n1"
   ]
  },
  {
   "cell_type": "code",
   "execution_count": 56,
   "id": "4702c878-a7ae-439f-afb6-361f9c02916d",
   "metadata": {},
   "outputs": [
    {
     "data": {
      "text/plain": [
       "array([ 9, 19, 29])"
      ]
     },
     "execution_count": 56,
     "metadata": {},
     "output_type": "execute_result"
    }
   ],
   "source": [
    "n1=np.array([10,20,30])\n",
    "n1=n1-1\n",
    "n1"
   ]
  },
  {
   "cell_type": "code",
   "execution_count": 57,
   "id": "b1a23059-59d2-4884-a07c-a975a8492d71",
   "metadata": {},
   "outputs": [
    {
     "data": {
      "text/plain": [
       "array([ 5., 10., 15.])"
      ]
     },
     "execution_count": 57,
     "metadata": {},
     "output_type": "execute_result"
    }
   ],
   "source": [
    "n1=np.array([10,20,30])\n",
    "n1=n1/2\n",
    "n1"
   ]
  },
  {
   "cell_type": "markdown",
   "id": "b470b48d-effd-4a23-8d99-b3f0948702fd",
   "metadata": {},
   "source": [
    "Numpy Math Function"
   ]
  },
  {
   "cell_type": "code",
   "execution_count": 58,
   "id": "4608c884-a703-48bd-bb0c-1edadb0906fd",
   "metadata": {},
   "outputs": [
    {
     "data": {
      "text/plain": [
       "31.833333333333332"
      ]
     },
     "execution_count": 58,
     "metadata": {},
     "output_type": "execute_result"
    }
   ],
   "source": [
    "# mean\n",
    "n1=np.array([10,45,8,50,18,60])\n",
    "np.mean(n1)"
   ]
  },
  {
   "cell_type": "code",
   "execution_count": 60,
   "id": "4f251d7f-4293-4a6b-94bb-3a645d43bb2e",
   "metadata": {},
   "outputs": [
    {
     "data": {
      "text/plain": [
       "array([34, 17, 22, 15, 35, 24])"
      ]
     },
     "execution_count": 60,
     "metadata": {},
     "output_type": "execute_result"
    }
   ],
   "source": [
    "n2=np.random.randint(11,40,6)\n",
    "n2"
   ]
  },
  {
   "cell_type": "code",
   "execution_count": 61,
   "id": "0970db4e-1204-468e-aeb0-1ca4a226613c",
   "metadata": {},
   "outputs": [
    {
     "data": {
      "text/plain": [
       "23.0"
      ]
     },
     "execution_count": 61,
     "metadata": {},
     "output_type": "execute_result"
    }
   ],
   "source": [
    "np.median(n2)"
   ]
  },
  {
   "cell_type": "code",
   "execution_count": 62,
   "id": "9104f882-947c-4ddb-a589-9bee5e85e3ff",
   "metadata": {},
   "outputs": [
    {
     "data": {
      "text/plain": [
       "7.675719293112969"
      ]
     },
     "execution_count": 62,
     "metadata": {},
     "output_type": "execute_result"
    }
   ],
   "source": [
    "np.std(n2)"
   ]
  },
  {
   "cell_type": "code",
   "execution_count": null,
   "id": "e31f0694-d8a6-4a5b-8541-1053e9655671",
   "metadata": {},
   "outputs": [],
   "source": []
  }
 ],
 "metadata": {
  "kernelspec": {
   "display_name": "Python 3 (ipykernel)",
   "language": "python",
   "name": "python3"
  },
  "language_info": {
   "codemirror_mode": {
    "name": "ipython",
    "version": 3
   },
   "file_extension": ".py",
   "mimetype": "text/x-python",
   "name": "python",
   "nbconvert_exporter": "python",
   "pygments_lexer": "ipython3",
   "version": "3.10.8"
  }
 },
 "nbformat": 4,
 "nbformat_minor": 5
}
